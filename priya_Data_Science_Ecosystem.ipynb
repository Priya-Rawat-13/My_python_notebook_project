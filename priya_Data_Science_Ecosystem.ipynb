{
 "cells": [
  {
   "cell_type": "markdown",
   "id": "58b2c8c0",
   "metadata": {},
   "source": [
    "# Data Science Tools and Ecosystem "
   ]
  },
  {
   "cell_type": "markdown",
   "id": "2d671a84",
   "metadata": {},
   "source": [
    "In this notebook, Data Science Tools and Ecosystem are summarized."
   ]
  },
  {
   "cell_type": "markdown",
   "id": "9d5548b6",
   "metadata": {},
   "source": [
    "Objectives:\n",
    "\n",
    "+ popular languages that Data Scientists use\n",
    "+ commonly used libraries used by Data Scientists\n",
    "+ Data Science tools"
   ]
  },
  {
   "cell_type": "markdown",
   "id": "38ab3878",
   "metadata": {},
   "source": [
    "Some of the popular languages that Data Scientists use are:\n",
    "\n",
    "    1. Python\n",
    "    2. R\n",
    "    3. Scala\n",
    "    4. SQL"
   ]
  },
  {
   "cell_type": "markdown",
   "id": "8b9fe7a7",
   "metadata": {},
   "source": [
    "Some of the commonly used libraries used by Data Scientists include:\n",
    "    \n",
    "    1. Pandas\n",
    "    2. Numpy\n",
    "    3. Matplotlib\n",
    "    4.TensorFlow"
   ]
  },
  {
   "cell_type": "markdown",
   "id": "a4ea4779",
   "metadata": {},
   "source": [
    "|Data Science Tools|\n",
    "|------------------|\n",
    "|MySQL|\n",
    "|postgreSQL|\n",
    "|MongoDB|"
   ]
  },
  {
   "cell_type": "markdown",
   "id": "9756e7c9",
   "metadata": {},
   "source": [
    "### Below are a few examples of evaluating arithmetic expressions in Python"
   ]
  },
  {
   "cell_type": "code",
   "execution_count": 2,
   "id": "ee1c9a99",
   "metadata": {},
   "outputs": [
    {
     "data": {
      "text/plain": [
       "17"
      ]
     },
     "execution_count": 2,
     "metadata": {},
     "output_type": "execute_result"
    }
   ],
   "source": [
    "(3*4)+5 #This a simple arithmetic expression to mutiply then add integers"
   ]
  },
  {
   "cell_type": "code",
   "execution_count": 4,
   "id": "c05ea9b3",
   "metadata": {},
   "outputs": [
    {
     "data": {
      "text/plain": [
       "3.3333333333333335"
      ]
     },
     "execution_count": 4,
     "metadata": {},
     "output_type": "execute_result"
    }
   ],
   "source": [
    "minutes=200\n",
    "hours=minutes/60 #This will convert 200 minutes to hours by diving by 60\n",
    "hours"
   ]
  },
  {
   "cell_type": "markdown",
   "id": "bb840ac0",
   "metadata": {},
   "source": [
    "## Author\n",
    "\n",
    "Priya Rawat"
   ]
  },
  {
   "cell_type": "code",
   "execution_count": null,
   "id": "66d80500",
   "metadata": {},
   "outputs": [],
   "source": []
  }
 ],
 "metadata": {
  "kernelspec": {
   "display_name": "Python 3 (ipykernel)",
   "language": "python",
   "name": "python3"
  },
  "language_info": {
   "codemirror_mode": {
    "name": "ipython",
    "version": 3
   },
   "file_extension": ".py",
   "mimetype": "text/x-python",
   "name": "python",
   "nbconvert_exporter": "python",
   "pygments_lexer": "ipython3",
   "version": "3.9.13"
  }
 },
 "nbformat": 4,
 "nbformat_minor": 5
}
